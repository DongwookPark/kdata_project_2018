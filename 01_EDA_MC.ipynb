{
 "cells": [
  {
   "cell_type": "code",
   "execution_count": 1,
   "metadata": {},
   "outputs": [],
   "source": [
    "import pandas as pd"
   ]
  },
  {
   "cell_type": "code",
   "execution_count": 2,
   "metadata": {},
   "outputs": [],
   "source": [
    "# HN16_ALL : 가구조사, 건강면접조사, 건강형태조사, 검진조사, 영양조사\n",
    "# NH16_24RC : 식품섭취조사\n",
    "# HN16_FFQ : 식품섭취빈도조사\n",
    "\n",
    "df_ALL = pd.read_sas(\"./HN16_ALL.sas7bdat\") \n",
    "#df_24RC = pd.read_sas(\"./HN16_24RC.sas7bdat\")\n",
    "df_ffq = pd.read_sas(\"./hn16_ffq.sas7bdat\")\n",
    "# df_24RC_code = pd.read_excel(\"./HN16_24RC(식품_음식코드).xlsx\")"
   ]
  },
  {
   "cell_type": "code",
   "execution_count": 10,
   "metadata": {},
   "outputs": [],
   "source": [
    "df = pd.merge(df_ALL, df_ffq, on= 'ID', how='left')"
   ]
  },
  {
   "cell_type": "code",
   "execution_count": 11,
   "metadata": {},
   "outputs": [
    {
     "data": {
      "text/plain": [
       "(8150, 1201)"
      ]
     },
     "execution_count": 11,
     "metadata": {},
     "output_type": "execute_result"
    }
   ],
   "source": [
    "df.shape"
   ]
  },
  {
   "cell_type": "code",
   "execution_count": 12,
   "metadata": {},
   "outputs": [
    {
     "name": "stdout",
     "output_type": "stream",
     "text": [
      "          mod_d_x             ID     ID_fam_x  year_x  region_x  town_t_x  \\\n",
      "0  b'2018.02.01.'  b'A651172801'  b'A6511728'  2016.0       1.0       1.0   \n",
      "1  b'2018.02.01.'  b'A651172802'  b'A6511728'  2016.0       1.0       1.0   \n",
      "2  b'2018.02.01.'  b'A651183001'  b'A6511830'  2016.0       1.0       1.0   \n",
      "\n",
      "   apt_t_x    psu_x  sex_x  age_x    ...          FQ_FE        FQ_NA  \\\n",
      "0      2.0  b'A651'    1.0   61.0    ...            NaN          NaN   \n",
      "1      2.0  b'A651'    2.0   57.0    ...            NaN          NaN   \n",
      "2      2.0  b'A651'    2.0   41.0    ...      12.879218  3671.647791   \n",
      "\n",
      "          FQ_K       FQ_VA   FQ_RETIN     FQ_CAROT     FQ_B1    FQ_B2  \\\n",
      "0          NaN         NaN        NaN          NaN       NaN      NaN   \n",
      "1          NaN         NaN        NaN          NaN       NaN      NaN   \n",
      "2  2226.426572  459.311661  84.990392  2158.129699  1.628015  1.13383   \n",
      "\n",
      "     FQ_NIAC    FQ_VITC  \n",
      "0        NaN        NaN  \n",
      "1        NaN        NaN  \n",
      "2  13.896055  79.150355  \n",
      "\n",
      "[3 rows x 1201 columns]\n"
     ]
    }
   ],
   "source": [
    "print(df.head(3))"
   ]
  },
  {
   "cell_type": "code",
   "execution_count": null,
   "metadata": {},
   "outputs": [],
   "source": []
  }
 ],
 "metadata": {
  "kernelspec": {
   "display_name": "Python 3",
   "language": "python",
   "name": "python3"
  },
  "language_info": {
   "codemirror_mode": {
    "name": "ipython",
    "version": 3
   },
   "file_extension": ".py",
   "mimetype": "text/x-python",
   "name": "python",
   "nbconvert_exporter": "python",
   "pygments_lexer": "ipython3",
   "version": "3.6.6"
  }
 },
 "nbformat": 4,
 "nbformat_minor": 2
}
